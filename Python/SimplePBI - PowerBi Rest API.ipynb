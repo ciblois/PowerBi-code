{
 "cells": [
  {
   "cell_type": "markdown",
   "metadata": {},
   "source": [
    "##  Importing libraries"
   ]
  },
  {
   "cell_type": "code",
   "execution_count": 1,
   "metadata": {},
   "outputs": [],
   "source": [
    "# We are getting specific categories from simplepbi\n",
    "from simplepbi import token\n",
    "from simplepbi import admin\n",
    "from simplepbi import groups\n",
    "from simplepbi import reports\n",
    "from simplepbi import datasets\n",
    "from simplepbi import imports\n",
    "from simplepbi import utils"
   ]
  },
  {
   "cell_type": "markdown",
   "metadata": {},
   "source": [
    "## Parameters to start using the library"
   ]
  },
  {
   "cell_type": "code",
   "execution_count": 2,
   "metadata": {},
   "outputs": [],
   "source": [
    "TENANT_ID = '[Subscription ID]'\n",
    "power_bi_client_id = '[Client App ID]'\n",
    "power_bi_secret = '[Secret generated key]'"
   ]
  },
  {
   "cell_type": "markdown",
   "metadata": {},
   "source": [
    "## Creating object token"
   ]
  },
  {
   "cell_type": "code",
   "execution_count": null,
   "metadata": {},
   "outputs": [],
   "source": [
    "t = token.Token(TENANT_ID, power_bi_client_id, None, None, power_bi_secret, use_service_principal=True)\n",
    "print(t)"
   ]
  },
  {
   "cell_type": "markdown",
   "metadata": {},
   "source": [
    "## Creating API category objects"
   ]
  },
  {
   "cell_type": "code",
   "execution_count": null,
   "metadata": {},
   "outputs": [],
   "source": [
    "a = admin.Admin(t.token)\n",
    "g = groups.Groups(t.token)\n",
    "d = datasets.Datasets(t.token)\n",
    "r = reports.Reports(t.token)\n",
    "im = imports.Imports(t.token)"
   ]
  },
  {
   "cell_type": "markdown",
   "metadata": {},
   "source": [
    "## Testing requests"
   ]
  },
  {
   "cell_type": "markdown",
   "metadata": {},
   "source": [
    "#### Admin API"
   ]
  },
  {
   "cell_type": "code",
   "execution_count": null,
   "metadata": {
    "scrolled": true
   },
   "outputs": [],
   "source": [
    "# get groups from admin category\n",
    "a.get_groups(top=15)"
   ]
  },
  {
   "cell_type": "markdown",
   "metadata": {},
   "source": [
    "#### Groups API"
   ]
  },
  {
   "cell_type": "code",
   "execution_count": null,
   "metadata": {},
   "outputs": [],
   "source": [
    "# get groups from group category\n",
    "g.get_groups()"
   ]
  },
  {
   "cell_type": "code",
   "execution_count": null,
   "metadata": {},
   "outputs": [],
   "source": [
    "# get group users from workspace I know\n",
    "workspace_id=\"[Workspace ID]\"\n",
    "g.get_groups_users(workspace_id)"
   ]
  },
  {
   "cell_type": "code",
   "execution_count": null,
   "metadata": {},
   "outputs": [],
   "source": [
    "# add user to workspace blogging\n",
    "g.add_user_group(workspace_id, groupUserAccessRight=\"Viewer\", emailAddress=\"email@ladataweb.com.ar\")"
   ]
  },
  {
   "cell_type": "markdown",
   "metadata": {},
   "source": [
    "#### Datasets"
   ]
  },
  {
   "cell_type": "code",
   "execution_count": null,
   "metadata": {},
   "outputs": [],
   "source": [
    "# get datasets from workspace blogging\n",
    "d.get_datasets_in_group(workspace_id)"
   ]
  },
  {
   "cell_type": "code",
   "execution_count": null,
   "metadata": {},
   "outputs": [],
   "source": [
    "# get dataset blogdemos data sources\n",
    "d.get_datasources_in_group(workspace_id, '[Dataset ID]')"
   ]
  },
  {
   "cell_type": "code",
   "execution_count": null,
   "metadata": {},
   "outputs": [],
   "source": [
    "# run a refresh for blogdemos dataset\n",
    "d.refresh_dataset_in_group(workspace_id, '[Dataset ID]', notifyOption=\"NoNotification\")"
   ]
  },
  {
   "cell_type": "code",
   "execution_count": null,
   "metadata": {},
   "outputs": [],
   "source": [
    "# get reports from workspace blogging and convert to pandas dataframe\n",
    "response = r.get_reports_in_group(workspace_id)\n",
    "df = utils.to_pandas(response, \"value\")\n",
    "df.head()"
   ]
  },
  {
   "cell_type": "code",
   "execution_count": null,
   "metadata": {},
   "outputs": [],
   "source": [
    "'''\n",
    "Making complex admin and no admin requests simple\n",
    "- get user artifact access preview\n",
    "- get widely shared artifacts published to web\n",
    "- get activities\n",
    "- Scanner api\n",
    "- enhaced refresh\n",
    "\n",
    "'''\n",
    "# https://github.com/ladataweb/SimplePBI/blob/main/Admin_complex.md\n",
    "res = a.get_user_artifact_access_preview(\"[UserGraphID]\", return_pandas=False)"
   ]
  },
  {
   "cell_type": "code",
   "execution_count": null,
   "metadata": {},
   "outputs": [],
   "source": [
    "# response\n",
    "res"
   ]
  },
  {
   "cell_type": "code",
   "execution_count": null,
   "metadata": {},
   "outputs": [],
   "source": [
    "''' Amazing custom requests\n",
    "- get_orphan_dataflows_preview\n",
    "- simple_import_pbix\n",
    "- simple_import_pbix_folder_in_group_preview\n",
    "- simple_copy_reports_between_groups\n",
    "'''\n",
    "report_id= \"[Report ID]\"\n",
    "workspace_destination =\"[Workspace Destination ID]\""
   ]
  },
  {
   "cell_type": "code",
   "execution_count": null,
   "metadata": {},
   "outputs": [],
   "source": [
    "# Copy report between workspaces (migration)\n",
    "r.simple_copy_reports_between_groups(workspace_id, report_id, workspace_destination)"
   ]
  },
  {
   "cell_type": "code",
   "execution_count": null,
   "metadata": {},
   "outputs": [],
   "source": [
    "# Publish all .pbix files to a single workspace\n",
    "folderPath = r\"C:/Users/Documentos/PowerBi Summit 2023/\"\n",
    "im.simple_import_pbix_folder_in_group_preview(workspace_destination, folderPath, nameConflict=\"CreateOrOverwrite\" )"
   ]
  },
  {
   "cell_type": "code",
   "execution_count": null,
   "metadata": {},
   "outputs": [],
   "source": []
  }
 ],
 "metadata": {
  "kernelspec": {
   "display_name": "Python 3",
   "language": "python",
   "name": "python3"
  },
  "language_info": {
   "codemirror_mode": {
    "name": "ipython",
    "version": 3
   },
   "file_extension": ".py",
   "mimetype": "text/x-python",
   "name": "python",
   "nbconvert_exporter": "python",
   "pygments_lexer": "ipython3",
   "version": "3.7.5"
  }
 },
 "nbformat": 4,
 "nbformat_minor": 2
}
