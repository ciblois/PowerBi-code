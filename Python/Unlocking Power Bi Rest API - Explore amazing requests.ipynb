{
 "cells": [
  {
   "cell_type": "markdown",
   "metadata": {},
   "source": [
    "##  Importing libraries"
   ]
  },
  {
   "cell_type": "code",
   "execution_count": null,
   "metadata": {},
   "outputs": [],
   "source": [
    "# We are getting specific categories from simplepbi\n",
    "from simplepbi import token\n",
    "from simplepbi import admin\n",
    "from simplepbi import groups\n",
    "from simplepbi import reports\n",
    "from simplepbi import datasets\n",
    "from simplepbi import imports\n",
    "from simplepbi import utils\n",
    "from simplepbi import azpause"
   ]
  },
  {
   "cell_type": "markdown",
   "metadata": {},
   "source": [
    "## Parameters to start using the library"
   ]
  },
  {
   "cell_type": "code",
   "execution_count": null,
   "metadata": {},
   "outputs": [],
   "source": [
    "TENANT_ID = '[Tenant ID]'\n",
    "client_id = '[App or Client ID]'\n",
    "client_secret = '[Secret Value]'"
   ]
  },
  {
   "cell_type": "markdown",
   "metadata": {},
   "source": [
    "## Creating object token"
   ]
  },
  {
   "cell_type": "code",
   "execution_count": null,
   "metadata": {},
   "outputs": [],
   "source": [
    "t = token.Token(TENANT_ID, client_id, None, None, client_secret, use_service_principal=True)\n",
    "print(t)"
   ]
  },
  {
   "cell_type": "markdown",
   "metadata": {},
   "source": [
    "## Creating API category objects"
   ]
  },
  {
   "cell_type": "code",
   "execution_count": null,
   "metadata": {},
   "outputs": [],
   "source": [
    "a = admin.Admin(t.token)\n",
    "g = groups.Groups(t.token)\n",
    "d = datasets.Datasets(t.token)\n",
    "r = reports.Reports(t.token)\n",
    "im = imports.Imports(t.token)"
   ]
  },
  {
   "cell_type": "markdown",
   "metadata": {},
   "source": [
    "## Testing requests"
   ]
  },
  {
   "cell_type": "markdown",
   "metadata": {},
   "source": [
    "#### Groups API"
   ]
  },
  {
   "cell_type": "code",
   "execution_count": null,
   "metadata": {},
   "outputs": [],
   "source": [
    "# get groups from group category\n",
    "\n",
    "g.get_groups()"
   ]
  },
  {
   "cell_type": "code",
   "execution_count": null,
   "metadata": {},
   "outputs": [],
   "source": [
    "# set a workspace id to work with\n",
    "\n",
    "workspace_id = \"[Workspace Id]\""
   ]
  },
  {
   "cell_type": "code",
   "execution_count": null,
   "metadata": {},
   "outputs": [],
   "source": [
    "# add user to workspace blogging\n",
    "\n",
    "g.add_user_group(workspace_id, groupUserAccessRight=\"Viewer\", emailAddress=\"[Work Email]\")"
   ]
  },
  {
   "cell_type": "markdown",
   "metadata": {},
   "source": [
    "#### Admin API"
   ]
  },
  {
   "cell_type": "code",
   "execution_count": null,
   "metadata": {
    "scrolled": true
   },
   "outputs": [],
   "source": [
    "# get groups from admin category\n",
    "\n",
    "a.get_groups(top=15, expand=\"reports\")"
   ]
  },
  {
   "cell_type": "code",
   "execution_count": null,
   "metadata": {},
   "outputs": [],
   "source": [
    "# get groups users type workspace filtered by active and not user specified\n",
    "\n",
    "a.get_groups(top=50, expand=\"users\", \n",
    "    filter=\"type eq 'Workspace' and state eq 'Active' and (not users/any(u: u/identifier eq '[Work Email]'))\")"
   ]
  },
  {
   "cell_type": "code",
   "execution_count": null,
   "metadata": {},
   "outputs": [],
   "source": [
    "# get groups expanding reports by report name\n",
    "\n",
    "a.get_groups(top=50, expand=\"reports\", filter=\"state eq 'Active' and (reports/any(u: u/name eq '[Report Name]'))\")"
   ]
  },
  {
   "cell_type": "code",
   "execution_count": null,
   "metadata": {},
   "outputs": [],
   "source": [
    "# Examples: https://powerbi.microsoft.com/en-us/blog/best-practices-to-prevent-getgroupsasadmin-api-timeout/"
   ]
  },
  {
   "cell_type": "markdown",
   "metadata": {},
   "source": [
    "#### Datasets"
   ]
  },
  {
   "cell_type": "code",
   "execution_count": null,
   "metadata": {},
   "outputs": [],
   "source": [
    "# get datasets from workspace blogging\n",
    "\n",
    "d.get_datasets_in_group(\"[Workspace Id]\")"
   ]
  },
  {
   "cell_type": "code",
   "execution_count": null,
   "metadata": {},
   "outputs": [],
   "source": [
    "# get dataset blogdemos data sources\n",
    "\n",
    "d.get_datasources_in_group(\"[Workspace Id]\", '[Dataset Id]')"
   ]
  },
  {
   "cell_type": "code",
   "execution_count": null,
   "metadata": {},
   "outputs": [],
   "source": [
    "# run a query against a dataset (semantic model)\n",
    "\n",
    "d.execute_queries_in_group(\"[Workspace Id]\", '[Dataset Id]', \n",
    "                           \"EVALUATE [Table Name]\", return_pandas=True )"
   ]
  },
  {
   "cell_type": "markdown",
   "metadata": {},
   "source": [
    "#### Amazing requests"
   ]
  },
  {
   "cell_type": "code",
   "execution_count": null,
   "metadata": {},
   "outputs": [],
   "source": [
    "# Get all actifacts a usar has access\n",
    "\n",
    "res = a.get_user_artifact_access_preview(\"[User graph Id]\", return_pandas=False)\n",
    "\n",
    "utils.to_pandas(res,\"ArtifactAccessEntities\")"
   ]
  },
  {
   "cell_type": "code",
   "execution_count": null,
   "metadata": {},
   "outputs": [],
   "source": [
    "# Get unused artifacts from a workspace\n",
    "\n",
    "res = a.get_unused_artifacts(\"[Workspace Id]\")\n",
    "res"
   ]
  },
  {
   "cell_type": "code",
   "execution_count": null,
   "metadata": {},
   "outputs": [],
   "source": [
    "# List of Power BI reports that are shared with the whole organization through links.\n",
    "\n",
    "a.get_widely_shared_artifacts_links_shared_to_whole_organization()\n"
   ]
  },
  {
   "cell_type": "code",
   "execution_count": null,
   "metadata": {},
   "outputs": [],
   "source": [
    "# Set report and destinations for migration between workspaces\n",
    "# workspace_id:  It's Blogging workspace\n",
    "\n",
    "report_id = \"[Report Id]\" #Transporte Cba report\n",
    "\n",
    "workspace_destination =\"[Workspace Id]\" #Event Session workspace"
   ]
  },
  {
   "cell_type": "code",
   "execution_count": null,
   "metadata": {},
   "outputs": [],
   "source": [
    "# Copy report between workspaces (migration)\n",
    "\n",
    "r.simple_copy_reports_between_groups(workspace_id, report_id, workspace_destination)"
   ]
  },
  {
   "cell_type": "code",
   "execution_count": null,
   "metadata": {},
   "outputs": [],
   "source": [
    "# Get orphan dataflows (dataflows that are not linked to dataset)\n",
    "\n",
    "a.get_orphan_dataflows_preview()"
   ]
  },
  {
   "cell_type": "code",
   "execution_count": null,
   "metadata": {},
   "outputs": [],
   "source": [
    "# Get dataflow to know more about it where is it (workspace)\n",
    "\n",
    "a.get_dataflows(filter=\"objectId eq [Dataflow Id]\")"
   ]
  },
  {
   "cell_type": "code",
   "execution_count": null,
   "metadata": {},
   "outputs": [],
   "source": [
    "# Scanner API to get important info\n",
    "# Get modified workspaces\n",
    "\n",
    "workspaces_list = a.get_modified_workspaces_preview(excludePersonalWorkspaces=True, modifiedSince=None)\n",
    "print(workspaces_list)"
   ]
  },
  {
   "cell_type": "code",
   "execution_count": null,
   "metadata": {},
   "outputs": [],
   "source": [
    "# Initiates a call to receive metadata for the requested list of workspaces\n",
    "# 100 workspaces limit\n",
    "\n",
    "a.post_workspace_info(workspaces_list[0], lineage=True, \n",
    "                      datasourceDetails=True, datasetSchema=True, \n",
    "                      datasetExpressions=True, getArtifactUsers=True)\n"
   ]
  },
  {
   "cell_type": "code",
   "execution_count": null,
   "metadata": {},
   "outputs": [],
   "source": [
    "# Check the status of the scanning with a scan id\n",
    "\n",
    "a.get_scan_status_preview('[Scan Id]')"
   ]
  },
  {
   "cell_type": "code",
   "execution_count": null,
   "metadata": {},
   "outputs": [],
   "source": [
    "# Get scan result\n",
    "\n",
    "scan_result = a.get_scan_result_preview('[Scan Id]')"
   ]
  },
  {
   "cell_type": "code",
   "execution_count": null,
   "metadata": {},
   "outputs": [],
   "source": [
    "# Convert scan result of a single artifact to pandas\n",
    "# scan_result\n",
    "\n",
    "df_scan = utils.get_artifact_from_scan_preview(scan_result, artifact=\"datasets\")\n",
    "df_scan.head()"
   ]
  },
  {
   "cell_type": "markdown",
   "metadata": {},
   "source": [
    "#### Other helpfull APIs"
   ]
  },
  {
   "cell_type": "code",
   "execution_count": null,
   "metadata": {},
   "outputs": [],
   "source": [
    "# Set Azure DevOps Repo variables\n",
    "\n",
    "organization = '[Organization name]'\n",
    "project = '[Project name]'\n",
    "repository_id = '[Repo Name]'\n",
    "path = f'[Path]'\n",
    "devopsKey = '[Personal access token]'"
   ]
  },
  {
   "cell_type": "code",
   "execution_count": null,
   "metadata": {},
   "outputs": [],
   "source": [
    "# Import pbix files from Azure DevOps Repo\n",
    "\n",
    "im.simple_import_from_devops(organization, project, repository_id, path, devopsKey, \"[Workspace Id]\")"
   ]
  },
  {
   "cell_type": "code",
   "execution_count": null,
   "metadata": {},
   "outputs": [],
   "source": [
    "# Create token for Azure resource manager (different from Previous one)\n",
    "\n",
    "azure = azpause.Azpause(TENANT_ID, client_id, client_secret)"
   ]
  },
  {
   "cell_type": "code",
   "execution_count": null,
   "metadata": {},
   "outputs": [],
   "source": [
    "# Resume Fabric capacity\n",
    "\n",
    "azure.resume_resource(\"[Suscription Id]\", \"[Resource group name]\", \"FABRIC\", \"[Resource name]\")"
   ]
  },
  {
   "cell_type": "code",
   "execution_count": null,
   "metadata": {},
   "outputs": [],
   "source": [
    "# Pause Fabric capacity\n",
    "\n",
    "azure.pause_resource(\"[Suscription Id]\", \"[Resource group name]\", \"FABRIC\", \"[Resource name]\")"
   ]
  }
 ],
 "metadata": {
  "kernelspec": {
   "display_name": "Python 3 (ipykernel)",
   "language": "python",
   "name": "python3"
  },
  "language_info": {
   "codemirror_mode": {
    "name": "ipython",
    "version": 3
   },
   "file_extension": ".py",
   "mimetype": "text/x-python",
   "name": "python",
   "nbconvert_exporter": "python",
   "pygments_lexer": "ipython3",
   "version": "3.10.9"
  }
 },
 "nbformat": 4,
 "nbformat_minor": 2
}
