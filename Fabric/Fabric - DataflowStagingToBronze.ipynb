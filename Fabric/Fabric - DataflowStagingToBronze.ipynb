{
 "cells": [
  {
   "cell_type": "code",
   "execution_count": 1,
   "id": "aae8fe3a-99f5-4c6b-93dd-473be5f3bd42",
   "metadata": {},
   "outputs": [
    {
     "data": {
      "application/vnd.livy.statement-meta+json": {
       "execution_finish_time": "2023-12-05T19:53:18.2714241Z",
       "execution_start_time": "2023-12-05T19:53:15.2876382Z",
       "livy_statement_state": "available",
       "parent_msg_id": "f98c69c9-e6cf-4c00-976f-0da7da1047d3",
       "queued_time": "2023-12-05T19:53:05.998188Z",
       "session_id": "90da0dcb-9ddb-42aa-991a-cca7edf24103",
       "session_start_time": "2023-12-05T19:53:06.2687189Z",
       "spark_pool": null,
       "state": "finished",
       "statement_id": 3
      },
      "text/plain": [
       "StatementMeta(, 90da0dcb-9ddb-42aa-991a-cca7edf24103, 3, Finished, Available)"
      ]
     },
     "metadata": {},
     "output_type": "display_data"
    }
   ],
   "source": [
    "'''.\n",
    "           @@@@@@@@@@\n",
    "       @@@@..........@@@@\n",
    "    @@@         .        @@@\n",
    "  @@.           .         . @@\n",
    " @  .     _     .         .   @\n",
    "@........| |...................@    *********************************************\n",
    "@      . | |   _____  .        @\n",
    "@      . | |  |  __ \\ .        @    La Data Web\n",
    "@      . | |__| |  | |.   ***  @\n",
    "@........|____| |  | |...*   *.@    Copyright © 2024 Ignacio Barrau\n",
    "@   .       . | |__| |. *     *@\n",
    "@   .       . |_____/ . *     *@    *********************************************\n",
    "@   .       .         . *     *@\n",
    "@   .       .         . *******@\n",
    "@@@@@@@@@@@@@@@@@@@@@@@@@@@@@@@@\n",
    "'''\n",
    "\n",
    "from notebookutils import mssparkutils\n",
    "from pyspark.sql.functions import col\n",
    "import os\n",
    "import time\n",
    "import pandas as pd"
   ]
  },
  {
   "cell_type": "markdown",
   "id": "6cb5f5ec",
   "metadata": {},
   "source": [
    "#### Step 1"
   ]
  },
  {
   "cell_type": "code",
   "execution_count": 2,
   "id": "51636d48-cc55-4c06-9e19-1887b85367c8",
   "metadata": {
    "jupyter": {
     "outputs_hidden": false,
     "source_hidden": false
    },
    "nteract": {
     "transient": {
      "deleting": false
     }
    }
   },
   "outputs": [
    {
     "data": {
      "application/vnd.livy.statement-meta+json": {
       "execution_finish_time": "2023-12-05T19:57:12.1304774Z",
       "execution_start_time": "2023-12-05T19:57:11.245184Z",
       "livy_statement_state": "available",
       "parent_msg_id": "80e2524b-ffe9-4e9a-a0f8-637880d68ff8",
       "queued_time": "2023-12-05T19:57:10.8410206Z",
       "session_id": "90da0dcb-9ddb-42aa-991a-cca7edf24103",
       "session_start_time": null,
       "spark_pool": null,
       "state": "finished",
       "statement_id": 4
      },
      "text/plain": [
       "StatementMeta(, 90da0dcb-9ddb-42aa-991a-cca7edf24103, 4, Finished, Available)"
      ]
     },
     "metadata": {},
     "output_type": "display_data"
    },
    {
     "data": {
      "application/vnd.synapse.widget-view+json": {
       "widget_id": "55faf449-f6a5-4998-871b-13cc8f0bf286",
       "widget_type": "Synapse.DataFrame"
      },
      "text/plain": [
       "SynapseWidget(Synapse.DataFrame, 55faf449-f6a5-4998-871b-13cc8f0bf286)"
      ]
     },
     "metadata": {},
     "output_type": "display_data"
    }
   ],
   "source": [
    "# Get mounts of session\n",
    "mssparkutils.fs.mounts()\n",
    "# Dataflow staging lake abfss of Tables\n",
    "lake_source = \"abfss://3e10dd2f-e450-496f-b1cc-2db2a2bb3d07@onelake.dfs.fabric.microsoft.com/5b1e13c2-059f-4bcb-b48c-f7af4fab7037/Tables/\"\n",
    "# Lakehouse File destination folder\n",
    "lake_destination = \"abfss://3e10dd2f-e450-496f-b1cc-2db2a2bb3d07@onelake.dfs.fabric.microsoft.com/021a9683-640d-4155-af13-cf64c7ee1ad5/Files/Bronze/\"\n",
    "# Dataflow json metadata as models$[dataflowid]\n",
    "dataflow = \"Files/models$50a92467_002D7193_002D4445_002D8ac5_002D00143959ff98/*.json\""
   ]
  },
  {
   "cell_type": "markdown",
   "id": "10589541",
   "metadata": {},
   "source": [
    "#### Step 2"
   ]
  },
  {
   "cell_type": "code",
   "execution_count": 3,
   "id": "0724863d-250b-48c3-a402-767db66901dc",
   "metadata": {
    "jupyter": {
     "outputs_hidden": false,
     "source_hidden": false
    },
    "nteract": {
     "transient": {
      "deleting": false
     }
    }
   },
   "outputs": [
    {
     "data": {
      "application/vnd.livy.statement-meta+json": {
       "execution_finish_time": "2023-12-05T19:57:22.7946018Z",
       "execution_start_time": "2023-12-05T19:57:22.5045809Z",
       "livy_statement_state": "available",
       "parent_msg_id": "b8313dd6-03b4-4f07-94da-6137c1e4429c",
       "queued_time": "2023-12-05T19:57:21.7429307Z",
       "session_id": "90da0dcb-9ddb-42aa-991a-cca7edf24103",
       "session_start_time": null,
       "spark_pool": null,
       "state": "finished",
       "statement_id": 5
      },
      "text/plain": [
       "StatementMeta(, 90da0dcb-9ddb-42aa-991a-cca7edf24103, 5, Finished, Available)"
      ]
     },
     "metadata": {},
     "output_type": "display_data"
    },
    {
     "name": "stdout",
     "output_type": "stream",
     "text": [
      "['5ac4c12adf204c28bb513cbefe9e5a33_InternetSales_002Eparquet', '5ac4c12adf204c28bb513cbefe9e5a33_Product_002Eparquet', '6b208846f20c4c6690506e99f1a33e9e_InternetSales_002Eparquet', '6b208846f20c4c6690506e99f1a33e9e_Product_002Eparquet', 'b865240d8d674f28bb0261f7ba64c7cf_Customers_002Eparquet', 'd74d1261e005426a84e9718c7cda53b7_Customers_002Eparquet']\n"
     ]
    }
   ],
   "source": [
    "# Generate a list tables snapshots at the mounted path\n",
    "tables = os.listdir('/lakehouse/default/Tables/')\n",
    "print(tables)"
   ]
  },
  {
   "cell_type": "markdown",
   "id": "f337b663",
   "metadata": {},
   "source": [
    "#### Step 3"
   ]
  },
  {
   "cell_type": "code",
   "execution_count": 4,
   "id": "9015e83f-4255-4046-9821-98d4fe105912",
   "metadata": {
    "jupyter": {
     "outputs_hidden": false,
     "source_hidden": false
    },
    "nteract": {
     "transient": {
      "deleting": false
     }
    }
   },
   "outputs": [
    {
     "data": {
      "application/vnd.livy.statement-meta+json": {
       "execution_finish_time": "2023-12-05T19:57:25.7845565Z",
       "execution_start_time": "2023-12-05T19:57:25.499669Z",
       "livy_statement_state": "available",
       "parent_msg_id": "ffb5bdb7-bdb9-4666-ace9-1a801f250cf2",
       "queued_time": "2023-12-05T19:57:25.1134141Z",
       "session_id": "90da0dcb-9ddb-42aa-991a-cca7edf24103",
       "session_start_time": null,
       "spark_pool": null,
       "state": "finished",
       "statement_id": 6
      },
      "text/plain": [
       "StatementMeta(, 90da0dcb-9ddb-42aa-991a-cca7edf24103, 6, Finished, Available)"
      ]
     },
     "metadata": {},
     "output_type": "display_data"
    },
    {
     "name": "stdout",
     "output_type": "stream",
     "text": [
      "[['5ac4c12adf204c28bb513cbefe9e5a33_InternetSales_002Eparquet', 'InternetSales', 'Wed Nov 15 19:44:49 2023'], ['5ac4c12adf204c28bb513cbefe9e5a33_Product_002Eparquet', 'Product', 'Wed Nov 15 19:44:49 2023'], ['6b208846f20c4c6690506e99f1a33e9e_InternetSales_002Eparquet', 'InternetSales', 'Wed Nov 15 20:12:12 2023'], ['6b208846f20c4c6690506e99f1a33e9e_Product_002Eparquet', 'Product', 'Wed Nov 15 20:12:13 2023'], ['b865240d8d674f28bb0261f7ba64c7cf_Customers_002Eparquet', 'Customers', 'Tue Dec  5 17:45:33 2023'], ['d74d1261e005426a84e9718c7cda53b7_Customers_002Eparquet', 'Customers', 'Mon Dec  4 19:12:16 2023']]\n"
     ]
    }
   ],
   "source": [
    "# Generate lists with real table name at staging, legible table name and last refreshed dates of each table snapshot\n",
    "tables_times = [ [snapshot, snapshot.split(\"_\")[1], time.ctime(os.stat('/lakehouse/default/Tables/'+snapshot).st_mtime)] for snapshot in tables]\n",
    "print(tables_times)"
   ]
  },
  {
   "cell_type": "markdown",
   "id": "88cf1645",
   "metadata": {},
   "source": [
    "#### Step 4"
   ]
  },
  {
   "cell_type": "code",
   "execution_count": 6,
   "id": "f053504c-51b6-435b-b813-54ee9f4dd4da",
   "metadata": {
    "jupyter": {
     "outputs_hidden": false,
     "source_hidden": false
    },
    "nteract": {
     "transient": {
      "deleting": false
     }
    }
   },
   "outputs": [
    {
     "data": {
      "application/vnd.livy.statement-meta+json": {
       "execution_finish_time": "2023-12-05T19:57:44.7056075Z",
       "execution_start_time": "2023-12-05T19:57:44.4044935Z",
       "livy_statement_state": "available",
       "parent_msg_id": "ee9f848f-8948-4c9c-8b6a-e4c6220bce31",
       "queued_time": "2023-12-05T19:57:44.0279328Z",
       "session_id": "90da0dcb-9ddb-42aa-991a-cca7edf24103",
       "session_start_time": null,
       "spark_pool": null,
       "state": "finished",
       "statement_id": 8
      },
      "text/plain": [
       "StatementMeta(, 90da0dcb-9ddb-42aa-991a-cca7edf24103, 8, Finished, Available)"
      ]
     },
     "metadata": {},
     "output_type": "display_data"
    },
    {
     "data": {
      "text/html": [
       "<div>\n",
       "<style scoped>\n",
       "    .dataframe tbody tr th:only-of-type {\n",
       "        vertical-align: middle;\n",
       "    }\n",
       "\n",
       "    .dataframe tbody tr th {\n",
       "        vertical-align: top;\n",
       "    }\n",
       "\n",
       "    .dataframe thead th {\n",
       "        text-align: right;\n",
       "    }\n",
       "</style>\n",
       "<table border=\"1\" class=\"dataframe\">\n",
       "  <thead>\n",
       "    <tr style=\"text-align: right;\">\n",
       "      <th></th>\n",
       "      <th>table</th>\n",
       "      <th>table_name</th>\n",
       "      <th>modified_date</th>\n",
       "    </tr>\n",
       "  </thead>\n",
       "  <tbody>\n",
       "    <tr>\n",
       "      <th>3</th>\n",
       "      <td>6b208846f20c4c6690506e99f1a33e9e_Product_002Ep...</td>\n",
       "      <td>Product</td>\n",
       "      <td>Wed Nov 15 20:12:13 2023</td>\n",
       "    </tr>\n",
       "    <tr>\n",
       "      <th>1</th>\n",
       "      <td>5ac4c12adf204c28bb513cbefe9e5a33_Product_002Ep...</td>\n",
       "      <td>Product</td>\n",
       "      <td>Wed Nov 15 19:44:49 2023</td>\n",
       "    </tr>\n",
       "    <tr>\n",
       "      <th>2</th>\n",
       "      <td>6b208846f20c4c6690506e99f1a33e9e_InternetSales...</td>\n",
       "      <td>InternetSales</td>\n",
       "      <td>Wed Nov 15 20:12:12 2023</td>\n",
       "    </tr>\n",
       "    <tr>\n",
       "      <th>0</th>\n",
       "      <td>5ac4c12adf204c28bb513cbefe9e5a33_InternetSales...</td>\n",
       "      <td>InternetSales</td>\n",
       "      <td>Wed Nov 15 19:44:49 2023</td>\n",
       "    </tr>\n",
       "    <tr>\n",
       "      <th>4</th>\n",
       "      <td>b865240d8d674f28bb0261f7ba64c7cf_Customers_002...</td>\n",
       "      <td>Customers</td>\n",
       "      <td>Tue Dec  5 17:45:33 2023</td>\n",
       "    </tr>\n",
       "    <tr>\n",
       "      <th>5</th>\n",
       "      <td>d74d1261e005426a84e9718c7cda53b7_Customers_002...</td>\n",
       "      <td>Customers</td>\n",
       "      <td>Mon Dec  4 19:12:16 2023</td>\n",
       "    </tr>\n",
       "  </tbody>\n",
       "</table>\n",
       "</div>"
      ],
      "text/plain": [
       "                                               table     table_name  \\\n",
       "3  6b208846f20c4c6690506e99f1a33e9e_Product_002Ep...        Product   \n",
       "1  5ac4c12adf204c28bb513cbefe9e5a33_Product_002Ep...        Product   \n",
       "2  6b208846f20c4c6690506e99f1a33e9e_InternetSales...  InternetSales   \n",
       "0  5ac4c12adf204c28bb513cbefe9e5a33_InternetSales...  InternetSales   \n",
       "4  b865240d8d674f28bb0261f7ba64c7cf_Customers_002...      Customers   \n",
       "5  d74d1261e005426a84e9718c7cda53b7_Customers_002...      Customers   \n",
       "\n",
       "              modified_date  \n",
       "3  Wed Nov 15 20:12:13 2023  \n",
       "1  Wed Nov 15 19:44:49 2023  \n",
       "2  Wed Nov 15 20:12:12 2023  \n",
       "0  Wed Nov 15 19:44:49 2023  \n",
       "4  Tue Dec  5 17:45:33 2023  \n",
       "5  Mon Dec  4 19:12:16 2023  "
      ]
     },
     "execution_count": 23,
     "metadata": {},
     "output_type": "execute_result"
    }
   ],
   "source": [
    "# Convert lists to pandas dataframe to keep it simple to loop or query\n",
    "df = pd.DataFrame(tables_times, columns=[\"table\", \"table_name\", \"modified_date\"]).sort_values(by=[\"table_name\", \"modified_date\"],ascending=False)\n",
    "df.head(10)"
   ]
  },
  {
   "cell_type": "markdown",
   "id": "a95bce9e",
   "metadata": {},
   "source": [
    "#### Step 5"
   ]
  },
  {
   "cell_type": "code",
   "execution_count": 7,
   "id": "0afb3392-d173-4570-85d7-34ba250f40ba",
   "metadata": {
    "jupyter": {
     "outputs_hidden": false,
     "source_hidden": false
    },
    "nteract": {
     "transient": {
      "deleting": false
     }
    }
   },
   "outputs": [
    {
     "data": {
      "application/vnd.livy.statement-meta+json": {
       "execution_finish_time": "2023-12-05T19:58:06.7025551Z",
       "execution_start_time": "2023-12-05T19:57:56.7605048Z",
       "livy_statement_state": "available",
       "parent_msg_id": "78c120ce-99d8-44c8-9634-3c8d5b5d6e72",
       "queued_time": "2023-12-05T19:57:56.3696662Z",
       "session_id": "90da0dcb-9ddb-42aa-991a-cca7edf24103",
       "session_start_time": null,
       "spark_pool": null,
       "state": "finished",
       "statement_id": 9
      },
      "text/plain": [
       "StatementMeta(, 90da0dcb-9ddb-42aa-991a-cca7edf24103, 9, Finished, Available)"
      ]
     },
     "metadata": {},
     "output_type": "display_data"
    }
   ],
   "source": [
    "# Get tables metadata of last refresh\n",
    "meta = spark.read.option(\"multiline\", \"true\").json(dataflow).sort(\"modifiedTime\", ascending=False).limit(1)\n",
    "metadata = []\n",
    "for i in meta.select(col(\"entities\")).first()[0]:\n",
    "    metadata.append([ i[2], [ columna[1] for columna in i[1] ] ])"
   ]
  },
  {
   "cell_type": "markdown",
   "id": "cbfd6865",
   "metadata": {},
   "source": [
    "#### Step 6"
   ]
  },
  {
   "cell_type": "code",
   "execution_count": 11,
   "id": "e3dcfb2d-cad1-4634-87a0-e768d6d736c2",
   "metadata": {
    "jupyter": {
     "outputs_hidden": false,
     "source_hidden": false
    },
    "nteract": {
     "transient": {
      "deleting": false
     }
    }
   },
   "outputs": [
    {
     "data": {
      "application/vnd.livy.statement-meta+json": {
       "execution_finish_time": "2023-12-05T20:00:02.5004795Z",
       "execution_start_time": "2023-12-05T20:00:00.9322652Z",
       "livy_statement_state": "available",
       "parent_msg_id": "217b3a9f-c0cb-4468-9d3e-50874ac5c1db",
       "queued_time": "2023-12-05T20:00:00.5346007Z",
       "session_id": "90da0dcb-9ddb-42aa-991a-cca7edf24103",
       "session_start_time": null,
       "spark_pool": null,
       "state": "finished",
       "statement_id": 13
      },
      "text/plain": [
       "StatementMeta(, 90da0dcb-9ddb-42aa-991a-cca7edf24103, 13, Finished, Available)"
      ]
     },
     "metadata": {},
     "output_type": "display_data"
    }
   ],
   "source": [
    "# Loop table names in order to take the first row of each one with the most recent refresh date and move it to bronze with overwrite mode\n",
    "for item in metadata:    \n",
    "    # Get Table full name at DataflowsStaging Lakehouse\n",
    "    df_values = df.loc[df['table_name'] == item[0]].sort_values(by=['modified_date'], ascending=False).head(1)\n",
    "    # Create spark frame with the table source\n",
    "    sframe = spark.read.format(\"parquet\").load(lake_source + df_values[\"table\"].iloc[0])\n",
    "    # Set columnas name from json metadata to spark frame for destination\n",
    "    sframe = sframe.toDF(*item[1])\n",
    "    # Write spark frame on destination\n",
    "    sframe.write.format(\"parquet\").mode(\"overwrite\").save(lake_destination + item[0] )"
   ]
  }
 ],
 "metadata": {
  "kernel_info": {
   "name": "synapse_pyspark"
  },
  "kernelspec": {
   "display_name": "Python 3 (ipykernel)",
   "language": "python",
   "name": "python3"
  },
  "language_info": {
   "codemirror_mode": {
    "name": "ipython",
    "version": 3
   },
   "file_extension": ".py",
   "mimetype": "text/x-python",
   "name": "python",
   "nbconvert_exporter": "python",
   "pygments_lexer": "ipython3",
   "version": "3.10.9"
  },
  "microsoft": {
   "language": "python"
  },
  "notebook_environment": {},
  "nteract": {
   "version": "nteract-front-end@1.0.0"
  },
  "save_output": true,
  "spark_compute": {
   "compute_id": "/trident/default",
   "session_options": {
    "conf": {},
    "enableDebugMode": false
   }
  },
  "synapse_widget": {
   "state": {
    "55faf449-f6a5-4998-871b-13cc8f0bf286": {
     "persist_state": {
      "view": {
       "chartOptions": {
        "aggregationType": "count",
        "binsNumber": 10,
        "categoryFieldKeys": [
         "0"
        ],
        "chartType": "bar",
        "isStacked": false,
        "seriesFieldKeys": [
         "0"
        ],
        "wordFrequency": "-1"
       },
       "tableOptions": {},
       "type": "details"
      }
     },
     "sync_state": {
      "isSummary": false,
      "language": "scala",
      "table": {
       "rows": [
        {
         "0": "/lakehouse/default",
         "1": "/default",
         "2": "default_lh",
         "3": "abfss://3e10dd2f-e450-496f-b1cc-2db2a2bb3d07@onelake.dfs.fabric.microsoft.com/5b1e13c2-059f-4bcb-b48c-f7af4fab7037",
         "4": "Lakehouse",
         "index": 1
        },
        {
         "0": "/synfs/nb_resource/builtin",
         "1": "/nb_resource/builtin",
         "2": "nb_resource",
         "3": "Notebook Working Directory",
         "4": "Notebook Working Directory",
         "index": 2
        }
       ],
       "schema": [
        {
         "key": "0",
         "name": "localPath",
         "type": "string"
        },
        {
         "key": "1",
         "name": "mountPoint",
         "type": "string"
        },
        {
         "key": "2",
         "name": "scope",
         "type": "string"
        },
        {
         "key": "3",
         "name": "source",
         "type": "string"
        },
        {
         "key": "4",
         "name": "storageType",
         "type": "string"
        }
       ],
       "truncated": false
      }
     },
     "type": "Synapse.DataFrame"
    },
    "5b080667-2ab0-4f27-9702-865094df61e4": {
     "persist_state": {
      "view": {
       "chartOptions": {
        "aggregationType": "count",
        "binsNumber": 10,
        "categoryFieldKeys": [
         "0"
        ],
        "chartType": "bar",
        "isStacked": false,
        "seriesFieldKeys": [
         "0"
        ],
        "wordFrequency": "-1"
       },
       "tableOptions": {},
       "type": "details"
      }
     },
     "sync_state": {
      "isSummary": false,
      "language": "scala",
      "table": {
       "rows": [
        {
         "0": "en-US",
         "1": [
          {
           "$type": "LocalEntity",
           "attributes": [
            {
             "dataType": "int64",
             "name": "StoreKey"
            },
            {
             "dataType": "int64",
             "name": "ProductKey"
            },
            {
             "dataType": "int64",
             "name": "CustomerKey"
            },
            {
             "dataType": "int64",
             "name": "Quantity"
            },
            {
             "dataType": "double",
             "name": "Unit Price"
            },
            {
             "dataType": "double",
             "name": "Unit Discount"
            },
            {
             "dataType": "double",
             "name": "Unit Cost"
            },
            {
             "dataType": "double",
             "name": "Net Price"
            },
            {
             "dataType": "date",
             "name": "Order Date"
            },
            {
             "dataType": "date",
             "name": "Due Date"
            },
            {
             "dataType": "date",
             "name": "Delivery Date"
            }
           ],
           "name": "InternetSales",
           "partitions": [
            {
             "cdm:traits": [
              "is.partition.format.parquet"
             ],
             "name": "InternetSales.parquet",
             "ppdf:stagedInWarehouse": false,
             "refreshTime": "2023-11-15T20:12:08.71516+00:00"
            }
           ]
          },
          {
           "$type": "LocalEntity",
           "attributes": [
            {
             "dataType": "int64",
             "name": "ProductKey"
            },
            {
             "dataType": "string",
             "name": "Product Name"
            },
            {
             "dataType": "int64",
             "name": "ProductSubcategoryKey"
            },
            {
             "dataType": "string",
             "name": "Manufacturer"
            },
            {
             "dataType": "string",
             "name": "Brand"
            },
            {
             "dataType": "string",
             "name": "Color"
            },
            {
             "dataType": "double",
             "name": "Unit Cost"
            },
            {
             "dataType": "double",
             "name": "Unit Price"
            },
            {
             "dataType": "date",
             "name": "Available Date"
            }
           ],
           "name": "Product",
           "partitions": [
            {
             "cdm:traits": [
              "is.partition.format.parquet"
             ],
             "name": "Product.parquet",
             "ppdf:stagedInWarehouse": false,
             "refreshTime": "2023-11-15T20:12:08.71516+00:00"
            }
           ]
          }
         ],
         "2": "2023-11-15T20:12:25.7682084+00:00",
         "3": "DataflowStagedData",
         "4": "6b208846f20c4c6690506e99f1a33e9e",
         "5": [],
         "6": [],
         "index": 1
        }
       ],
       "schema": [
        {
         "key": "0",
         "name": "culture",
         "type": "string"
        },
        {
         "key": "1",
         "name": "entities",
         "type": "ArrayType(StructType(StructField($type,StringType,true),StructField(attributes,ArrayType(StructType(StructField(dataType,StringType,true),StructField(name,StringType,true)),true),true),StructField(name,StringType,true),StructField(partitions,ArrayType(StructType(StructField(cdm:traits,ArrayType(StringType,true),true),StructField(name,StringType,true),StructField(ppdf:stagedInWarehouse,BooleanType,true),StructField(refreshTime,StringType,true)),true),true)),true)"
        },
        {
         "key": "2",
         "name": "modifiedTime",
         "type": "string"
        },
        {
         "key": "3",
         "name": "name",
         "type": "string"
        },
        {
         "key": "4",
         "name": "ppdf:sqlPrefix",
         "type": "string"
        },
        {
         "key": "5",
         "name": "referenceModels",
         "type": "ArrayType(StringType,true)"
        },
        {
         "key": "6",
         "name": "relationships",
         "type": "ArrayType(StringType,true)"
        }
       ],
       "truncated": false
      }
     },
     "type": "Synapse.DataFrame"
    }
   },
   "version": "0.1"
  },
  "trident": {
   "lakehouse": {
    "default_lakehouse": "5b1e13c2-059f-4bcb-b48c-f7af4fab7037",
    "default_lakehouse_name": "DataflowsStagingLakehouse",
    "default_lakehouse_workspace_id": "3e10dd2f-e450-496f-b1cc-2db2a2bb3d07",
    "known_lakehouses": [
     {
      "id": "5b1e13c2-059f-4bcb-b48c-f7af4fab7037"
     }
    ]
   }
  },
  "widgets": {}
 },
 "nbformat": 4,
 "nbformat_minor": 5
}
